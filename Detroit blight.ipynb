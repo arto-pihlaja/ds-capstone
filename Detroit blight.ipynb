{
 "cells": [
  {
   "cell_type": "markdown",
   "metadata": {
    "collapsed": true
   },
   "source": [
    "# Detroit Blight\n",
    "A study notebook\n",
    "\n",
    "Overall plan <br>\n",
    "1) Load  incident data from the various files<br>\n",
    "2) Define 'houses' as  geographic entities, for example a 10 x 10 meter squares. <br>\n",
    "3) Allocate incidents to houses and count the number of incidens for the house. <br>\n",
    "4) Allocate known demolition permits to houses. Houses with a demolition permit are regarded as blighted. <br>\n",
    "5) Train a model to predict which houses are marked for demolition (=are blighted) <br>\n",
    " a) simple model by count of incidents <br>\n",
    " b) intermediate model by count of incidents per category\n",
    "\n",
    "## Data\n",
    "Downloaded these files. Using the local files in the code.\n",
    "https://github.com/uwescience/datasci_course_materials/blob/master/capstone/blight/data/detroit-blight-violations.csv\n",
    "https://github.com/uwescience/datasci_course_materials/blob/master/capstone/blight/data/detroit-311.csv\n",
    "https://github.com/uwescience/datasci_course_materials/blob/master/capstone/blight/data/detroit-crime.csv\n",
    "https://github.com/uwescience/datasci_course_materials/blob/master/capstone/blight/data/detroit-demolition-permits.tsv\n",
    "\n",
    "\n",
    "\n"
   ]
  },
  {
   "cell_type": "markdown",
   "metadata": {
    "raw_mimetype": "text/html"
   },
   "source": [
    "## Prepare for data manipulation\n"
   ]
  },
  {
   "cell_type": "code",
   "execution_count": 1,
   "metadata": {
    "collapsed": false
   },
   "outputs": [
    {
     "name": "stderr",
     "output_type": "stream",
     "text": [
      "Warning message:\n",
      ": package 'data.table' was built under R version 3.2.5Warning message:\n",
      ": package 'pbapply' was built under R version 3.2.5Warning message:\n",
      ": package 'tree' was built under R version 3.2.5Warning message:\n",
      ": package 'ROCR' was built under R version 3.2.5Loading required package: gplots\n",
      "Warning message:\n",
      ": package 'gplots' was built under R version 3.2.5\n",
      "Attaching package: 'gplots'\n",
      "\n",
      "The following object is masked from 'package:stats':\n",
      "\n",
      "    lowess\n",
      "\n"
     ]
    }
   ],
   "source": [
    "    library(data.table)\n",
    "    library(pbapply)\n",
    "    library(stringr)\n",
    "    library(tree)\n",
    "    library(ROCR)\n",
    "\n",
    "setDirs <- function(){\n",
    "    basedir <-\n",
    "        \"C:/Users/setup/Documents/coursera/uw/datascience/capstone\"\n",
    "    assign(\"datadir\",(paste0(basedir, \"/data\")),.GlobalEnv)\n",
    "    assign(\"codedir\",(paste0(basedir, \"/code\")),.GlobalEnv)\n",
    "    setwd(datadir)    \n",
    "}\n",
    "\n",
    "loadDf <- function(fileName) {\n",
    "    setDirs()\n",
    "    fullName <- paste0(datadir, \"/\", fileName)\n",
    "    # tryCatch(\n",
    "        df <- read.csv(fullName, stringsAsFactors = FALSE)\n",
    "#         error = function(e) \"File not found!\"\n",
    "#     )\n",
    "    return(df)\n",
    "}\n",
    "loadDt <- function(fileName){\n",
    "    d <- loadDf(fileName)\n",
    "    d <- data.table(d)\n",
    "    return(d)\n",
    "}"
   ]
  },
  {
   "cell_type": "markdown",
   "metadata": {},
   "source": [
    "Blight violations\n",
    "First load and format blight violation data"
   ]
  },
  {
   "cell_type": "code",
   "execution_count": 3,
   "metadata": {
    "collapsed": false
   },
   "outputs": [
    {
     "name": "stderr",
     "output_type": "stream",
     "text": [
      "Warning message:\n",
      "In formatBv(bv): NAs introduced by coercion"
     ]
    },
    {
     "name": "stdout",
     "output_type": "stream",
     "text": [
      "[1] \"Start categorizing Blight Violations\"\n"
     ]
    },
    {
     "ename": "ERROR",
     "evalue": "Error in formatBv(bv): could not find function \"categorizeBv\"\n",
     "output_type": "error",
     "traceback": [
      "Error in formatBv(bv): could not find function \"categorizeBv\"\n"
     ]
    },
    {
     "data": {
      "text/html": [
       "<table>\n",
       "<thead><tr><th></th><th scope=col>TicketID</th><th scope=col>TicketNumber</th><th scope=col>AgencyName</th><th scope=col>ViolName</th><th scope=col>ViolationStreetNumber</th><th scope=col>ViolationStreetName</th><th scope=col>MailingStreetNumber</th><th scope=col>MailingStreetName</th><th scope=col>MailingCity</th><th scope=col>MailingState</th><th scope=col>ellip.h</th><th scope=col>AdminFee</th><th scope=col>LateFee</th><th scope=col>StateFee</th><th scope=col>CleanUpCost</th><th scope=col>JudgmentAmt</th><th scope=col>PaymentStatus</th><th scope=col>Void</th><th scope=col>ViolationCategory</th><th scope=col>ViolationAddress</th><th scope=col>MailingAddress</th></tr></thead>\n",
       "<tbody>\n",
       "\t<tr><th scope=row>1</th><td>26288</td><td>05000001DAH</td><td>Department of Public Works</td><td>Group, LLC, Grand Holding</td><td>2566</td><td>GRAND BLVD      </td><td>743</td><td>Beaubien, Ste. 201</td><td>Detroit</td><td>MI</td><td><e2><8b><af></td><td>$20.00</td><td>$150.00</td><td>$10.00</td><td>$0.00</td><td>$1680.00</td><td>PAID IN FULL</td><td>0</td><td>0</td><td>2566 GRAND BLVD\n",
       "Detroit, MI\n",
       "(42.36318237000006, -83.09167672099994)</td><td>743 Beaubien\n",
       "Detroit, MI 48226\n",
       "(42.33373063000005, -83.04181755199994)</td></tr>\n",
       "\t<tr><th scope=row>2</th><td>19800</td><td>05000025DAH</td><td>Department of Public Works</td><td>JACKSON, RAECHELLE </td><td>19014</td><td>ASHTON          </td><td>20501</td><td>HEYDEN</td><td>DETROIT</td><td>MI</td><td><e2><8b><af></td><td>$20.00</td><td>$10.00</td><td>$10.00</td><td>$0.00</td><td>$140.00</td><td>NO PAYMENT APPLIED</td><td>0</td><td>0</td><td>19014 ASHTON\n",
       "Detroit, MI\n",
       "(42.429390762000025, -83.22039357799997)</td><td>20501 HEYDEN\n",
       "DETROIT, MI 48219\n",
       "(42.44217763300003, -83.24182717199994)</td></tr>\n",
       "</tbody>\n",
       "</table>\n"
      ],
      "text/latex": [
       "\\begin{tabular}{r|lllllllllllllllllllllllllllllll}\n",
       "  & TicketID & TicketNumber & AgencyName & ViolName & ViolationStreetNumber & ViolationStreetName & MailingStreetNumber & MailingStreetName & MailingCity & MailingState & ellip.h & AdminFee & LateFee & StateFee & CleanUpCost & JudgmentAmt & PaymentStatus & Void & ViolationCategory & ViolationAddress & MailingAddress\\\\\n",
       "\\hline\n",
       "\t1 & 26288 & 05000001DAH & Department of Public Works & Group, LLC, Grand Holding & 2566 & GRAND BLVD       & 743 & Beaubien, Ste. 201 & Detroit & MI & <e2><8b><af> & $20.00 & $150.00 & $10.00 & $0.00 & $1680.00 & PAID IN FULL & 0 & 0 & 2566 GRAND BLVD\n",
       "Detroit, MI\n",
       "(42.36318237000006, -83.09167672099994) & 743 Beaubien\n",
       "Detroit, MI 48226\n",
       "(42.33373063000005, -83.04181755199994)\\\\\n",
       "\t2 & 19800 & 05000025DAH & Department of Public Works & JACKSON, RAECHELLE  & 19014 & ASHTON           & 20501 & HEYDEN & DETROIT & MI & <e2><8b><af> & $20.00 & $10.00 & $10.00 & $0.00 & $140.00 & NO PAYMENT APPLIED & 0 & 0 & 19014 ASHTON\n",
       "Detroit, MI\n",
       "(42.429390762000025, -83.22039357799997) & 20501 HEYDEN\n",
       "DETROIT, MI 48219\n",
       "(42.44217763300003, -83.24182717199994)\\\\\n",
       "\\end{tabular}\n"
      ],
      "text/plain": [
       "   TicketID TicketNumber                 AgencyName                  ViolName\n",
       "1:    26288  05000001DAH Department of Public Works Group, LLC, Grand Holding\n",
       "2:    19800  05000025DAH Department of Public Works       JACKSON, RAECHELLE \n",
       "   ViolationStreetNumber ViolationStreetName MailingStreetNumber\n",
       "1:                  2566    GRAND BLVD                       743\n",
       "2:                 19014    ASHTON                         20501\n",
       "    MailingStreetName MailingCity MailingState MailingZipCode NonUsAddressCode\n",
       "1: Beaubien, Ste. 201     Detroit           MI          48226              N/A\n",
       "2:             HEYDEN     DETROIT           MI          48219              N/A\n",
       "   Country          TicketIssuedDT TicketIssuedTime               HearingDT\n",
       "1:         01/01/38440 12:00:00 AM         12:00:00 01/01/38474 12:00:00 AM\n",
       "2:         01/01/38383 12:00:00 AM         10:15:00 01/01/38425 12:00:00 AM\n",
       "   CourtTime ViolationCode\n",
       "1:    9:00AM       22-2-20\n",
       "2:    1:30PM       22-2-22\n",
       "                                                        ViolDescription\n",
       "1:                                   Burning solid waste  in open fires\n",
       "2: Bulk solid waste deposited more than 24 hours before designated time\n",
       "                        Disposition  FineAmt AdminFee LateFee StateFee\n",
       "1:     Responsible By Determination $1500.00   $20.00 $150.00   $10.00\n",
       "2: Not responsible By Determination  $100.00   $20.00  $10.00   $10.00\n",
       "   CleanUpCost JudgmentAmt      PaymentStatus Void ViolationCategory\n",
       "1:       $0.00    $1680.00       PAID IN FULL    0                 0\n",
       "2:       $0.00     $140.00 NO PAYMENT APPLIED    0                 0\n",
       "                                                        ViolationAddress\n",
       "1: 2566 GRAND BLVD\\nDetroit, MI\\n(42.36318237000006, -83.09167672099994)\n",
       "2:   19014 ASHTON\\nDetroit, MI\\n(42.429390762000025, -83.22039357799997)\n",
       "                                                             MailingAddress\n",
       "1: 743 Beaubien\\nDetroit, MI 48226\\n(42.33373063000005, -83.04181755199994)\n",
       "2: 20501 HEYDEN\\nDETROIT, MI 48219\\n(42.44217763300003, -83.24182717199994)"
      ]
     },
     "execution_count": 3,
     "metadata": {},
     "output_type": "execute_result"
    }
   ],
   "source": [
    "getBViol <- function(){\n",
    "    bv <- loadDt(\"detroit-blight-violations.csv\")\n",
    "    return(bv)\n",
    "}\n",
    "\n",
    "formatBv <- function(bv) {\n",
    "    library(pbapply)\n",
    "    extractCoord <- function(bvsRow) {\n",
    "        # \"XAddress\" is like ..., 2566 GRAND BLVD\\nDetroit, MI\\n(42.36318237000006, -83.09167672099994), ...\n",
    "        # rowstr <- unlist(strsplit(toString(bvsRow),split = \"\\n\"))\n",
    "        vcoord <- unlist(strsplit(toString(bvsRow[\"ViolationAddress\"]),split = \"\\n\"))[3]\n",
    "        # Now we have something like (42.32544917300004, -83.06413908999997)\n",
    "        # vcoord <- gsub(\"[()]\",\"\",vcoord)\n",
    "        # vcoord <- unlist(strsplit(vcoord,split = \",\"))\n",
    "        mcoord <- unlist(strsplit(toString(bvsRow[\"MailingAddress\"]),split = \"\\n\"))[3]\n",
    "        coord <- paste(vcoord,\",\", mcoord)\n",
    "        coord <- gsub(\"[()]\",\"\",coord)\n",
    "        coord <- unlist(strsplit(coord,split = \",\"))\n",
    "        # coord <- vcoord\n",
    "        return(coord)\n",
    "    }\n",
    "    \n",
    "    coord <- t(pbapply(bv,1,extractCoord))\n",
    "    # Add Violation and Mailing latitude and longitude as columns\n",
    "    splitCoord <- function(crow){\n",
    "        c <- c(crow[1],crow[2],crow[3],crow[4])\n",
    "    }\n",
    "    coord <- t(pbsapply(coord,splitCoord))\n",
    "    bv$Lat <- as.numeric(coord[,1])\n",
    "    bv$Lon <- as.numeric(coord[,2])\n",
    "    bv$MLat <- as.numeric(coord[,3])\n",
    "    bv$MLon <- as.numeric(coord[,4])\n",
    "\n",
    "    # Add a column that indicates if the violation and mail addresses are equal (a proxy for the owner living in the building)\n",
    "    bv$ViolEqMail <- (bv$Lat == bv$MLat & bv$Lon == bv$MLon)\n",
    "    # Add a column for engineered violation category (and turn bv into a data.table)\n",
    "    print(\"Start categorizing Blight Violations\")\n",
    "    bv <- categorizeBv(bv)\n",
    "    setkey(bv,Lat,Lon,VCategory)\n",
    "    bv <- subset(bv, select = c(\"VCategory\", \"ViolName\", \"ViolationCode\", \"Lat\", \"Lon\", \"ViolEqMail\"))\n",
    "    return(bv)\n",
    "} # formatBv\n",
    "\n",
    "bv <- getBViol()\n",
    "bv <- formatBv(bv)\n",
    "head(bv,2)"
   ]
  },
  {
   "cell_type": "code",
   "execution_count": 11,
   "metadata": {
    "collapsed": false
   },
   "outputs": [],
   "source": [
    "getD311 <- function() {\n",
    "    d311 <- loadDf(\"detroit-311.csv\")\n",
    "    #u311type <- unique(d311$issue_type,use.names = FALSE)\n",
    "    d311 <- subset(\n",
    "        d311,\n",
    "        select = c(\n",
    "            issue_type,ticket_closed_date_time,ticket_created_date_time,\n",
    "            address,lat,lng\n",
    "        )\n",
    "    )\n",
    "    # assign(\"u311type\",u311type,envir = .GlobalEnv)\n",
    "    n311 <- names(d311)\n",
    "    n311[1] <- \"IncType\"\n",
    "    n311[5] <- \"Lat\"\n",
    "    n311[6] <- \"Lon\"\n",
    "    names(d311) <- n311\n",
    "    d311$Lat <- as.numeric(d311$Lat)\n",
    "    d311$Lon <- as.numeric(d311$Lon)\n",
    "    d311 <- data.table(d311)\n",
    "    # Guessing which incident types could be attributed to a house and indicate blight\n",
    "    d311 <- d311[IncType %in% c(\"Abandoned Vehicle\", \"Curbside Solid Waste Issue\", \"Illegal Dumping / Illegal Dump Sites\",\n",
    "                                \"Running Water in a Home or Building\", \"Trash Issue - Improper placement of refuse container between collections/left at curbside\")]\n",
    "    return(d311)\n",
    "}"
   ]
  },
  {
   "cell_type": "markdown",
   "metadata": {},
   "source": [
    "## 2) Build houses\n",
    "Now that the functions are defined, let's actually build the houses and limit to those within Detroit's boundaries."
   ]
  },
  {
   "cell_type": "code",
   "execution_count": 15,
   "metadata": {
    "collapsed": false
   },
   "outputs": [
    {
     "name": "stdout",
     "output_type": "stream",
     "text": [
      "OGR data source with driver: ESRI Shapefile \n",
      "Source: \"C:/Users/setup/Documents/coursera/uw/datascience/capstone/data/City Boundaries shapefile\", layer: \"geo_export_941b9f41-e08a-40db-ae36-d77a7046e1a5\"\n",
      "with 1 features\n",
      "It has 7 fields\n"
     ]
    }
   ],
   "source": [
    "buildHouses <- function(precision, bv){\n",
    "    inc <- data.table(Lat = bv$Lat, Lon = bv$Lon, IncType = bv$VCategory, ViolEqMail = bv$ViolEqMail\n",
    "                      )\n",
    "    rm(bv)\n",
    "    d311 <- getD311()\n",
    "    d311$ViolEqMail <- \"NA\"\n",
    "    d311 <- categorize311(d311)\n",
    "    d311$IncType <- d311$d311Category\n",
    "    d311 <- subset(d311, select=c(\"Lat\", \"Lon\", \"IncType\", \"ViolEqMail\"))\n",
    "\n",
    "    inc <- rbind(inc, d311)\n",
    "    rm(d311)\n",
    "# At a closer look, crime incidents are not clearly linked to a building, so it's not used here to determine houses.\n",
    "\n",
    "    # Remove clear geographic outliers. Coordinates from Detroit bounding box with a margin.\n",
    "    inc <- inc[Lat %between% c(42.25,42.5) & Lon %between% c(-83.3,-82.9)]\n",
    "    # Then against Detroit city boundaries\n",
    "    inc <- overDetroit(inc)\n",
    "    print(paste('Number of incidents in Detroit total: ', nrow(inc)))\n",
    "    inc <- data.table(inc)\n",
    "    inc$Lat <- round(as.numeric(inc$Lat),digits=precision)\n",
    "    inc$Lon <- round(as.numeric(inc$Lon),digits=precision)\n",
    "    setkey(inc, Lat, Lon, IncType)\n",
    "    # The data table operator .N adds the number of incidents in the by group to every member of the group. \n",
    "    # We add it as a new column Count, which has the number of incidents per rounded location and type\n",
    "    inc <- inc[,\":=\" (Count = .N), by= list(Lat, Lon, IncType)]\n",
    "    # We need separate columns for each incident type\n",
    "    inc <- addCountColumnsPerIncType(inc)\n",
    "    inc <- unique(inc)\n",
    "    inc <- inc[ , j=list(IncType, ViolEqMail, max(TrashIncCount), max(PermitIncCount), max(MaintenanceIncCount), max(VehicleIncCount), max(WaterIncCount)), by=list(Lat, Lon)]\n",
    "    colnames(inc) <- c(\"Lat\", \"Lon\", \"IncType\", \"ViolEqMail\", \"Trash\", \"Permit\", \"Maintenance\", \"Vehicle\", \"Water\")\n",
    "    # Now we still need to remove duplicates (incidents with identical coordinates, when rounded to precision)(DT uses key fiels to determine uniqueness)\n",
    "    setkey(inc, Lat, Lon)\n",
    "    houses <- unique(inc)\n",
    "    rm(inc)\n",
    "    setkey(houses, Lat, Lon)\n",
    "    # Houses are now sorted by ascending Lat, Lon. Add row number as unique HouseId\n",
    "    houses <- cbind(row.names(houses),houses)\n",
    "    cnh <- colnames(houses)\n",
    "    cnh[1] <- \"HouseId\"\n",
    "    colnames(houses) <- cnh\n",
    "    st <- sum(houses$Trash) + sum(houses$Permit)+ sum(houses$Maintenance) + sum(houses$Vehicle) + sum(houses$Water)  \n",
    "    print(paste('Total counts in summary table houses: ', st))\n",
    "    return(houses)\n",
    "}\n",
    "\n",
    "overDetroit <- function(dt){\n",
    "    # dt must be a data table with columsn Lon and Lat with no NAs\n",
    "    library(sp)\n",
    "    library(rgdal)\n",
    "    coordinates(dt) <- ~Lon + Lat\n",
    "    detroitShapeDir <- paste0(datadir, \"/City Boundaries shapefile\")\n",
    "    detroit <- readOGR(dsn=detroitShapeDir, layer = \"geo_export_941b9f41-e08a-40db-ae36-d77a7046e1a5\")\n",
    "    proj4string(dt) <- proj4string(detroit)\n",
    "    dInD <- dt[detroit,] #shorthand for dt[!is.na(over(dt,detroit)),]\n",
    "    dt <- tryCatch(\n",
    "        cbind(dInD@coords[,2],dInD@coords[,1], dInD@data), # add Lat, Lon\n",
    "        error = function(e){\n",
    "            print(\"Could not find additional data in dt!\")\n",
    "            return(data.table(Lat=dInD@coords[,2],Lon=dInD@coords[,1]))\n",
    "        }\n",
    "    )\n",
    "    colnames(dt)[1:2] <- c(\"Lat\", \"Lon\")\n",
    "    dt <- data.table(dt)\n",
    "    return(dt)\n",
    "}"
   ]
  },
  {
   "cell_type": "markdown",
   "metadata": {},
   "source": [
    "# 3) Get demolition permits\n",
    "Load demolition permit data. Assign permits to previously defined houses. As a result, we have a list of demolition permits with a HouseId, if available. Many of the permits don't belong to any of the houses we've constructed above.\n",
    "Again, first define functions, then finally use them.\n"
   ]
  },
  {
   "cell_type": "code",
   "execution_count": null,
   "metadata": {
    "collapsed": true
   },
   "outputs": [],
   "source": [
    "getDemolition <- function(){\n",
    "        # if(is.null(dem)){\n",
    "            dem <- read.csv(file=\n",
    "                                \"C:/Users/setup/Documents/coursera/uw/datascience/capstone/data/detroit-demolition-permits.tsv\",\n",
    "                            sep = \"\\t\", stringsAsFactors = FALSE)\n",
    "        # }\n",
    "#         dem <- subset(dem, select=c(PERMIT_ISSUED, CASE_TYPE, BLD_PERMIT_TYPE, site_location))\n",
    "        return(dem)\n",
    "}\n",
    "\n",
    "formatDemolition <- function(dem){\n",
    "    library(stringr)\n",
    "    siteLoc <- strsplit(dem$site_location, split = \"\\n\")\n",
    "    siteLocLen <- unlist(Map(length,siteLoc))\n",
    "    \n",
    "    # Get the coordinates\n",
    "    crd <- str_extract_all(dem$site_location, \"[(].+[)]\", simplify = TRUE) # we get (42.nnnn, -83.nnn)\n",
    "    crd <- gsub(\"[()]\",\"\",crd)\n",
    "    crd <- strsplit(crd,split = \",\")\n",
    "    # strsplit returns a list. Now need to replace missing coordinates with NA before Reducing list to matrix,\n",
    "    # or else the rows won't match.\n",
    "    crd <- Map(function(crdlistitem){ \n",
    "        if(length(crdlistitem==2)) return(crdlistitem) \n",
    "        else return(NA) }, crd)\n",
    "    crd <- Reduce(rbind,crd)\n",
    "    \n",
    "    # Get the address\n",
    "    extractDemAddr <- function(row){\n",
    "        l <- length(row)\n",
    "        if(l<1) return(c(NA,NA))\n",
    "        else if(l==1) return(c(row[1],NA))\n",
    "        else return(c(row[1],row[2]))\n",
    "    }\n",
    "    add <- Map(extractDemAddr,siteLoc)\n",
    "    add <- t(as.data.frame(x=add, stringsAsFactors=FALSE ))\n",
    "    dnam <- c(\"Lat\", \"Lon\", \"Street\", \"City\", names(dem))\n",
    "    dem <- cbind(as.numeric(crd[,1]), as.numeric(crd[,2]), add[,1], add[,2], dem)\n",
    "    names(dem) <- dnam\n",
    "    dem$site_location <- gsub(\"\\n\",\" \",dem$site_location)\n",
    "    dem$owner_location <- gsub(\"\\n\",\" \",dem$owner_location)\n",
    "    dem$contractor_location <- gsub(\"\\n\",\" \",dem$contractor_location)\n",
    "    dem$Street <- as.character(dem$Street)\n",
    "    dem$City <- as.character(dem$City)\n",
    "    return(dem)\n",
    "}\n",
    "\n",
    "prepareDemolition <- function(){\n",
    "    dem <- getDemolition()\n",
    "    dem <- formatDemolition(dem)\n",
    "    dem <- data.table(dem)\n",
    "    dem <- geoCodeDem(dem)\n",
    "    # Slice out those in Detroit only!\n",
    "    dem <- dem[!(is.na(Lat))] #in case there still are some\n",
    "    dem <- overDetroit(dem)\n",
    "    dem$Lat <- round(dem$Lat, digits = 4)\n",
    "    dem$Lon <- round(dem$Lon, digits = 4)\n",
    "    return(dem)\n",
    "}\n",
    "\n",
    "geoCodeDem <- function(dem){\n",
    "    # Some 900 entries have NA for coordinates. We'll get them from file, if available, or geocode them with ggmap::geocode    \n",
    "    demToGeocode <- dem[is.na(Lat)] #I've tested that identical(is.na(dem$Lat), is.na(dem$Lon)) \n",
    "    if(nrow(demToGeocode) < 1){\n",
    "        return()\n",
    "    }\n",
    "    geocoded <- tryCatch(\n",
    "        loadDf(\"geocoded2.csv\"),\n",
    "        error = function(e){\n",
    "            dem <- dem[!(is.na(Lat))]\n",
    "            demToGeocode <- get0(\"demToGeocode\")\n",
    "            addresses <- paste0(demToGeocode$Street, \" \",gsub(\",\", \"\",demToGeocode$City))\n",
    "                        # TESTING: First try geocoding with a small sample\n",
    "            addresses <- head(addresses, 10)\n",
    "            # Start the geocoding process - address by address. geocode() function takes care of query speed limit.\n",
    "            library(ggmap)\n",
    "            geocoded <- data.frame()\n",
    "            for (ii in (1:length(addresses))){\n",
    "                if (ii %% 50 == 0){\n",
    "                    print(paste(\"Working on index\", ii, \"of\", length(addresses)))    \n",
    "                }\n",
    "                #query the google geocoder - this will pause here if we are over the limit.\n",
    "                result = geoCodeAddress(addresses[ii]) \n",
    "                # print(result$status)     \n",
    "                result$index <- ii\n",
    "                #append the answer to the results file.\n",
    "                geocoded <- rbind(geocoded, result)\n",
    "                #save temporary results as we are going along\n",
    "                # saveRDS(geocoded, tempfilename)\n",
    "            }\n",
    "            # Export the geocoded results for scrutiny\n",
    "            assign(\"geocoded\",geocoded,.GlobalEnv)\n",
    "            writeData(data = geocoded, filename=\"geocoded2.csv\")\n",
    "            return(geocoded)\n",
    "        }\n",
    "    )\n",
    "    # Finally round and add the geocoded entries to dem\n",
    "    demToGeocode$Lat <- geocoded$Lat\n",
    "    demToGeocode$Lon <- geocoded$Lon\n",
    "    dem <- rbind(dem,demToGeocode)\n",
    "}\n",
    "\n",
    "geoCodeAddress <- function(address){\n",
    "    geo_reply = geocode(address, output='all', messaging=TRUE, override_limit=TRUE)\n",
    "    #now extract the bits that we need from the returned list\n",
    "    answer <- data.frame(Lat=NA, Lon=NA, accuracy=NA, formatted_address=NA, address_type=NA, status=NA)\n",
    "    answer$status <- geo_reply$status\n",
    "    #if we are over the query limit - want to pause for an hour\n",
    "    while(geo_reply$status == \"OVER_QUERY_LIMIT\"){\n",
    "        print(\"OVER QUERY LIMIT - Pausing for 1 hour at:\") \n",
    "        time <- Sys.time()\n",
    "        print(as.character(time))\n",
    "        Sys.sleep(60*60)\n",
    "        geo_reply = geocode(address, output='all', messaging=TRUE, override_limit=TRUE)\n",
    "        answer$status <- geo_reply$status\n",
    "    }\n",
    "    if (geo_reply$status != \"OK\"){\n",
    "        return(answer)\n",
    "    }   \n",
    "    #else, extract what we need from the Google server reply into a dataframe:\n",
    "    answer$Lat <- geo_reply$results[[1]]$geometry$location$lat\n",
    "    answer$Lon <- geo_reply$results[[1]]$geometry$location$lng   \n",
    "    if (length(geo_reply$results[[1]]$types) > 0){\n",
    "        answer$accuracy <- geo_reply$results[[1]]$types[[1]]\n",
    "    }\n",
    "    answer$address_type <- paste(geo_reply$results[[1]]$types, collapse=',')\n",
    "    answer$formatted_address <- geo_reply$results[[1]]$formatted_address\n",
    "    return(answer)\n",
    "}\n"
   ]
  },
  {
   "cell_type": "markdown",
   "metadata": {},
   "source": [
    "# Time to put it all together!\n",
    "Get and format the demolition permits"
   ]
  },
  {
   "cell_type": "code",
   "execution_count": null,
   "metadata": {
    "collapsed": true
   },
   "outputs": [],
   "source": [
    "\n",
    "dem <- prepareDemolition()\n",
    "demolitionHouses <- function(dem, houses){\n",
    "    # Link demolition permits to houses. Both must be data.table, with Lat, Lon rounded to 4\n",
    "    #   Use a simple inner join of dt!\n",
    "    # dem: Lat, Lon, Street...  house: HouseId, Count, Lat, Lon.\n",
    "    setkey(dem, Lat, Lon)\n",
    "    setkey(houses, Lat, Lon)\n",
    "    dh <- houses[dem, nomatch=0]\n",
    "    # Multiple demolition permits have been sent to the same houses, so we must dedup dh\n",
    "    dh <- unique(dh)\n",
    "    return(dh)\n",
    "}\n",
    "\n",
    "# Assign them to houses\n",
    "dh <- demolitionHouses(dem,houses)"
   ]
  },
  {
   "cell_type": "markdown",
   "metadata": {},
   "source": [
    "### Shortcut\n",
    "Using the file I've saved from my dataframes, load dh"
   ]
  },
  {
   "cell_type": "code",
   "execution_count": null,
   "metadata": {
    "collapsed": true
   },
   "outputs": [],
   "source": [
    "dh <- read.csv(\"houses_with_demolition.csv\",stringsAsFactors = FALSE)\n",
    "# Checked in Carto that only 1 of these may fall a few meters outside Detroit --> ignore error\n",
    "dh <- data.table(dh)"
   ]
  },
  {
   "cell_type": "markdown",
   "metadata": {},
   "source": [
    "## 4) Prepare demolition permits for training and testing\n",
    "Many demolition permits are not associated to any of our houses. In other words there are no incidents linked to them. Let's disregard them."
   ]
  },
  {
   "cell_type": "code",
   "execution_count": null,
   "metadata": {
    "collapsed": true
   },
   "outputs": [],
   "source": [
    "gh <- dh[!is.na(house)]\n",
    "sgh <- subset(gh,select=c(\"house\",\"Lat\",\"Lon\",\"PERMIT_ISSUED\",\"LEGAL_USE\",\"PARCEL_SIZE\",\"STORIES\"))\n",
    "rm(dh,gh)\n",
    "nrow(sgh)"
   ]
  },
  {
   "cell_type": "markdown",
   "metadata": {},
   "source": [
    "There should be 3573 demolition permits assigned to houses (sgh).\n",
    "Check for duplicates ie. multiple permits to the same house:"
   ]
  },
  {
   "cell_type": "code",
   "execution_count": null,
   "metadata": {
    "collapsed": true
   },
   "outputs": [],
   "source": [
    "> sum(duplicated(sgh$house))\n",
    "[1] 1090\n",
    "> sum(duplicated(sgh$house, sgh$Lat, sgh$Lon))\n",
    "[1] 1090"
   ]
  },
  {
   "cell_type": "markdown",
   "metadata": {},
   "source": [
    "Finally remove duplicates and prepare the train and test sets."
   ]
  },
  {
   "cell_type": "code",
   "execution_count": null,
   "metadata": {
    "collapsed": true
   },
   "outputs": [],
   "source": [
    "sgh <- sgh[!duplicated(sgh$house),] \n",
    "n <- nrow(sgh)\n",
    "train <- sample(1:n, size=round(0.7*n),replace=FALSE)\n",
    "demtrain <- sgh[train,]\n",
    "demtest <- sgh[-train,]\n",
    "# Some crude validity tests\n",
    "sum(duplicated(sgh$house))\n",
    "max(sgh$Lat)\n",
    "max(sgh$Lon)\n",
    "\n",
    "bHouses <- data.table(HouseId = sgh$house, ToDemolition = TRUE)\n",
    "nbHouses <- houses[!(HouseId %in% sgh$house)]\n",
    "nbHouses <- data.table(HouseId = as.integer(nbHouses$HouseId), ToDemolition = FALSE)\n",
    "nbHouses <- nbHouses[sample(1:nrow(nbHouses), size=nrow(bHouses), replace=FALSE),]\n",
    "# as result, we have nrow(bHouses) = nrow(nbHouses) = 2483\n",
    "\n",
    "ttHouses <- rbind(bHouses, nbHouses)\n",
    "ttHouses[order(ttHouses$HouseId),]\n",
    "# Ordering by HouseId should distribute the blighted/nonblighted houses fairly randomly, \n",
    "# as the house numbers were generated with no reference to blight\n"
   ]
  },
  {
   "cell_type": "markdown",
   "metadata": {},
   "source": [
    "# 5) Number of incidents per house in training/test set"
   ]
  },
  {
   "cell_type": "code",
   "execution_count": null,
   "metadata": {
    "collapsed": true
   },
   "outputs": [],
   "source": [
    "bvc <- loadDf(\"bvCounts.csv\") #A result of previous aggregation of incidents per Lat,Lon"
   ]
  },
  {
   "cell_type": "markdown",
   "metadata": {},
   "source": [
    "Alternatively, here's how the object in bvCounts was built:"
   ]
  },
  {
   "cell_type": "code",
   "execution_count": 1,
   "metadata": {
    "collapsed": false
   },
   "outputs": [
    {
     "ename": "ERROR",
     "evalue": "Error in eval(expr, envir, enclos): could not find function \"loadDf\"\n",
     "output_type": "error",
     "traceback": [
      "Error in eval(expr, envir, enclos): could not find function \"loadDf\"\n"
     ]
    },
    {
     "ename": "ERROR",
     "evalue": "Error in subset(bv, select = c(\"lat\", \"lon\")): object 'bv' not found\n",
     "output_type": "error",
     "traceback": [
      "Error in subset(bv, select = c(\"lat\", \"lon\")): object 'bv' not found\n"
     ]
    },
    {
     "ename": "ERROR",
     "evalue": "Error in eval(expr, envir, enclos): object 'bv' not found\n",
     "output_type": "error",
     "traceback": [
      "Error in eval(expr, envir, enclos): object 'bv' not found\n"
     ]
    },
    {
     "ename": "ERROR",
     "evalue": "Error in eval(expr, envir, enclos): object 'bv' not found\n",
     "output_type": "error",
     "traceback": [
      "Error in eval(expr, envir, enclos): object 'bv' not found\n"
     ]
    },
    {
     "ename": "ERROR",
     "evalue": "Error in eval(expr, envir, enclos): could not find function \"data.table\"\n",
     "output_type": "error",
     "traceback": [
      "Error in eval(expr, envir, enclos): could not find function \"data.table\"\n"
     ]
    },
    {
     "ename": "ERROR",
     "evalue": "Error in eval(expr, envir, enclos): object 'bv' not found\n",
     "output_type": "error",
     "traceback": [
      "Error in eval(expr, envir, enclos): object 'bv' not found\n"
     ]
    },
    {
     "ename": "ERROR",
     "evalue": "Error in unique(bv): object 'bv' not found\n",
     "output_type": "error",
     "traceback": [
      "Error in unique(bv): object 'bv' not found\n"
     ]
    },
    {
     "ename": "ERROR",
     "evalue": "Error in names(bv) = c(\"Lat\", \"Lon\", \"Count\"): object 'bv' not found\n",
     "output_type": "error",
     "traceback": [
      "Error in names(bv) = c(\"Lat\", \"Lon\", \"Count\"): object 'bv' not found\n"
     ]
    },
    {
     "ename": "ERROR",
     "evalue": "Error in eval(expr, envir, enclos): could not find function \"setkey\"\n",
     "output_type": "error",
     "traceback": [
      "Error in eval(expr, envir, enclos): could not find function \"setkey\"\n"
     ]
    },
    {
     "ename": "ERROR",
     "evalue": "Error in eval(expr, envir, enclos): could not find function \"loadDf\"\n",
     "output_type": "error",
     "traceback": [
      "Error in eval(expr, envir, enclos): could not find function \"loadDf\"\n"
     ]
    },
    {
     "ename": "ERROR",
     "evalue": "Error in eval(expr, envir, enclos): could not find function \"data.table\"\n",
     "output_type": "error",
     "traceback": [
      "Error in eval(expr, envir, enclos): could not find function \"data.table\"\n"
     ]
    },
    {
     "ename": "ERROR",
     "evalue": "Error in eval(expr, envir, enclos): could not find function \"setkey\"\n",
     "output_type": "error",
     "traceback": [
      "Error in eval(expr, envir, enclos): could not find function \"setkey\"\n"
     ]
    },
    {
     "ename": "ERROR",
     "evalue": "Error in eval(expr, envir, enclos): object 'bv' not found\n",
     "output_type": "error",
     "traceback": [
      "Error in eval(expr, envir, enclos): object 'bv' not found\n"
     ]
    },
    {
     "ename": "ERROR",
     "evalue": "Error in eval(expr, envir, enclos): object 'bt' not found\n",
     "output_type": "error",
     "traceback": [
      "Error in eval(expr, envir, enclos): object 'bt' not found\n"
     ]
    }
   ],
   "source": [
    "bv <- loadDf(\"Detroitbviolfromcartocsv.csv\")\n",
    "bv <- subset(bv, select=c(\"lat\", \"lon\"))\n",
    "bv$lat <- round(bv$lat,digits=4)\n",
    "bv$lon <- round(bv$lon,digits=4)\n",
    "bv <- data.table(bv)\n",
    "bv <- bv[, \":=\" (Count = .N), by= list(lat,lon)]\n",
    "# The data table operator .N adds the number of incidents in the by group to every member of the group.\n",
    "# It did not remove duplicates (aggregate to one member per group)\n",
    "bv <- unique(bv)\n",
    "names(bv)=c(\"Lat\", \"Lon\", \"Count\")\n",
    "setkey(bv,Lat,Lon)\n",
    "\n",
    "train <- loadDf(\"trainSet.csv\")\n",
    "train <- data.table(train)\n",
    "setkey(train,Lat,Lon)\n",
    "# Join the data tables\n",
    "bt <- bv[train]\n",
    "names(bt)\n",
    "# [1] \"Lat\"          \"Lon\"          \"Count\"        \"HouseId\"      \"ToDemolition\"\n"
   ]
  },
  {
   "cell_type": "markdown",
   "metadata": {},
   "source": [
    "### 6) Build simple model\n",
    "Build the model based on solely the number of incidents per case in the training set."
   ]
  },
  {
   "cell_type": "code",
   "execution_count": null,
   "metadata": {
    "collapsed": true
   },
   "outputs": [],
   "source": [
    "btree <- tree(ToDemolition ~ Count, data= bt)\n",
    "cv.tree(btree, , prune.tree,K=5)\n",
    "plot(tree)\n",
    "text(tree)"
   ]
  },
  {
   "cell_type": "markdown",
   "metadata": {},
   "source": [
    "The resulting model is very simple: if the number of incidents >0.5 (in practice if there are incidents) then predict TRUE = to be demolished = blighted.\n",
    "The precision is not too good."
   ]
  },
  {
   "cell_type": "code",
   "execution_count": null,
   "metadata": {
    "collapsed": true
   },
   "outputs": [],
   "source": []
  }
 ],
 "metadata": {
  "anaconda-cloud": {},
  "celltoolbar": "Raw Cell Format",
  "kernelspec": {
   "display_name": "R",
   "language": "R",
   "name": "ir"
  },
  "language_info": {
   "codemirror_mode": "r",
   "file_extension": ".r",
   "mimetype": "text/x-r-source",
   "name": "R",
   "pygments_lexer": "r",
   "version": "3.2.3"
  }
 },
 "nbformat": 4,
 "nbformat_minor": 0
}
