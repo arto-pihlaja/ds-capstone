{
 "cells": [
  {
   "cell_type": "markdown",
   "metadata": {},
   "source": [
    "# Detroit Blight\n",
    "A study notebook\n",
    "\n",
    "Overall plan <br>\n",
    "1) Load and explore incident data from the various files: violations, 311 calls, crime <br>\n",
    "2) Define 'houses' as  geographic entities, for example a 10 x 10 meter squares. Allocate incidents to houses. <br>\n",
    "3) Allocate known demolition permits to houses. Houses marked for demolition are regarded as blighted. <br>\n",
    "4) Train a model to predict which houses will be marked for demolition (=are blighted) <br>\n",
    "\n",
    "## Data\n",
    "https://github.com/uwescience/datasci_course_materials/blob/master/capstone/blight/data/detroit-blight-violations.csv\n",
    "https://github.com/uwescience/datasci_course_materials/blob/master/capstone/blight/data/detroit-311.csv\n",
    "https://github.com/uwescience/datasci_course_materials/blob/master/capstone/blight/data/detroit-crime.csv\n",
    "https://github.com/uwescience/datasci_course_materials/blob/master/capstone/blight/data/detroit-demolition-permits.tsv\n",
    "\n",
    "\n",
    "\n"
   ]
  },
  {
   "cell_type": "code",
   "execution_count": null,
   "metadata": {
    "collapsed": true
   },
   "outputs": [],
   "source": [
    "library(data.table)\n",
    "\n",
    "# Program idea: fit incident data to data frame. Select only relevant columns, and always use same names for them. \n",
    "# From incident data, derive unique locations of a given area = houses. House data: HouseId, Lat, Lon.\n",
    "\n",
    "loadDf <- function(fileName) {\n",
    "    basedir <-\n",
    "        \"C:/Users/setup/Documents/coursera/uw/datascience/capstone\"\n",
    "    datadir <- paste0(basedir, \"/data\")\n",
    "    codedir <- paste0(basedir, \"/code\")\n",
    "    fullName <- paste0(datadir, \"/\", fileName)\n",
    "    df <- read.csv(fullName, stringsAsFactors = FALSE)\n",
    "    return(df)\n",
    "}\n",
    "\n",
    "getBViol <- function(){\n",
    "    bv <- loadDf(\"detroit-blight-violations.csv\")\n",
    "    return(bv)\n",
    "}\n",
    "\n",
    "formatBv <- function(bv) {\n",
    "    bv <- subset(\n",
    "        bv,select = c(\n",
    "            \"ViolationCode\",\n",
    "            \"ViolationAddress\",\"ViolationStreetNumber\", \"ViolationStreetName\"\n",
    "        )\n",
    "    )\n",
    "    extractCoord <- function(bvsRow) {\n",
    "        # bvsRow is like ..., 2566 GRAND BLVD\\nDetroit, MI\\n(42.36318237000006, -83.09167672099994)\n",
    "        rowStr <- unlist(strsplit(toString(bvsRow),split = \"\\n\"))[3]\n",
    "        # Now we have something like (42.32544917300004, -83.06413908999997)\n",
    "        coord <- gsub(\"[()]\",\"\",rowStr)\n",
    "        coord <- unlist(strsplit(coord,split = \",\"))\n",
    "        return(coord)\n",
    "    }\n",
    "    coord <- t(apply(bv,1,extractCoord))\n",
    "    # Add latitude and longitude as first columns\n",
    "    bv <- cbind(as.numeric(coord[,1]),as.numeric(coord[,2]),bv)\n",
    "    names(bv) <-\n",
    "        c(\"Lat\",\"Lon\",\"IncType\",\"VAddress\",\"VStrNr\",\"VStrName\")\n",
    "    bv <- bv[,1:6]\n",
    "} # formatBv\n",
    "\n",
    "formatBvAddress <- function(bv){\n",
    "    # Check column names before calling this function!\n",
    "    bv$ViolationAddress <- gsub(\"\\n\",\",\",bv$ViolationAddress)\n",
    "    # bv$MailingAddress <- gsub(\"\\n\",\",\",bv$MailingAddress)\n",
    "    return(bv)\n",
    "}\n",
    "\n",
    "getD311 <- function() {\n",
    "    d311 <- loadDf(\"detroit-311.csv\")\n",
    "    # We'll ignore some alerts, as they are not specific to a house\n",
    "    # nor caused by the house owner\n",
    "    ignore <-\n",
    "        c(\n",
    "            \"Water Main Break\", \"Fire Hydrant Issue\", \"Traffic Signal Issue\",\n",
    "            \"Potholes\", \"Test (internal use only, public issue)\",\n",
    "            \"Customer Service (internal use only, private issue)\",\n",
    "            \"Graffiti Abatement (internal use only, public issue)\"\n",
    "        )\n",
    "    # d311 <- d311[!(d311$issue_type %in% ignore),]\n",
    "    u311type <- unique(d311$issue_type,use.names = FALSE)\n",
    "    d311 <- subset(\n",
    "        d311,!(d311$issue_type %in% ignore),\n",
    "        select = c(\n",
    "            issue_type,ticket_closed_date_time,ticket_created_date_time,\n",
    "            address,lat,lng\n",
    "        )\n",
    "    )\n",
    "    # assign(\"u311type\",u311type,envir = .GlobalEnv)\n",
    "    n311 <- names(d311)\n",
    "    n311[1] <- \"IncType\"\n",
    "    n311[5] <- \"Lat\"\n",
    "    n311[6] <- \"Lon\"\n",
    "    names(d311) <- n311\n",
    "    d311$Lat <- as.numeric(d311$Lat)\n",
    "    d311$Lon <- as.numeric(d311$Lon)\n",
    "    return(d311)\n",
    "}\n",
    "\n",
    "getCrime <- function(){\n",
    "    cr <- loadDf(\"detroit-crime.csv\")\n",
    "    cr <- subset(cr,select=c(\"CATEGORY\", \"LAT\", \"LON\"))\n",
    "    names(cr) <- c(\"IncType\", \"Lat\", \"Lon\")\n",
    "    return(cr)\n",
    "}\n",
    "\n",
    "buildHousesFromDf <- function(df, houses, precision){\n",
    "    # We'll aggregate all incidents from any df to a set of houses (coordinates) irrespective of incident type.\n",
    "    # House structure: (HouseId, Lat, Lon). Lat and Lon represent the center of the house, which is about 11m x 11m.\n",
    "    hCoord <- data.frame(Lat=houses$Lat, Lon=houses$Lon)\n",
    "    dCoord <- data.frame(Lat=round(df$Lat,digits = precision), Lon=round(df$Lon,digits = precision))\n",
    "    # Remove NA values\n",
    "    naVector <- is.na(dCoord$Lat+dCoord$Lon)\n",
    "    dCoord <- dCoord[!naVector,]\n",
    "    coord <- rbind(hCoord,dCoord)\n",
    "    rm(df,hCoord,dCoord)\n",
    "    # Remove added duplicates\n",
    "    coord <- coord[!duplicated(coord),]\n",
    "    houses <- coord\n",
    "    rm(coord)\n",
    "    return(houses)\n",
    "}"
   ]
  },
  {
   "cell_type": "markdown",
   "metadata": {},
   "source": [
    "## 2) Build houses\n",
    "Now that the functions are defined, let's actually build the houses."
   ]
  },
  {
   "cell_type": "code",
   "execution_count": null,
   "metadata": {
    "collapsed": true
   },
   "outputs": [],
   "source": [
    "buildHouses <- function(){\n",
    "    # Load each file and allocate incident coordinates to houses\n",
    "    bv <- getBViol()\n",
    "    bv <- formatBv(bv)\n",
    "    houses <- NULL\n",
    "    houses <- buildHousesFromDf(bv, houses, 4)\n",
    "    rm(bv)\n",
    "    d311 <- getD311()\n",
    "    houses <- buildHousesFromDf(d311, houses, 4)\n",
    "    rm(d311)\n",
    "    cr <- getCrime()\n",
    "    houses <- buildHousesFromDf(cr, houses, 4)\n",
    "    houses <- houses[order(houses$Lat, houses$Lon),]\n",
    "    row.names(houses) <- 1:nrow(houses)\n",
    "    houses <- cbind(row.names(houses), houses)\n",
    "    names(houses) <- c(\"HouseId\", \"Lat\", \"Lon\")\n",
    "    houses$HouseId <- as.character(houses$HouseId)\n",
    "    houses <- data.table(houses)\n",
    "    setkey(houses,Lat,Lon)\n",
    "    return(houses)\n",
    "}\n",
    "\n",
    "    houses <- buildHouses()\n",
    "    write.csv(file = \"houses.csv\",x = houses,row.names = TRUE)\n",
    "    assign(\"houses\",houses,.GlobalEnv)"
   ]
  },
  {
   "cell_type": "markdown",
   "metadata": {},
   "source": [
    "# 3) Get demolition permits\n",
    "Load demolition permit data. Assign permits to previously defined houses. As a result, we have a list of demolition permits with a HouseId, if available. Many of the permits don't belong to any of the houses we've constructed above.\n",
    "Again, first define functions, then finally use them.\n"
   ]
  },
  {
   "cell_type": "code",
   "execution_count": null,
   "metadata": {
    "collapsed": true
   },
   "outputs": [],
   "source": [
    "getDemolition <- function(){\n",
    "        # if(is.null(dem)){\n",
    "            dem <- read.csv(file=\n",
    "                                \"C:/Users/setup/Documents/coursera/uw/datascience/capstone/data/detroit-demolition-permits.tsv\",\n",
    "                            sep = \"\\t\", stringsAsFactors = FALSE)\n",
    "        # }\n",
    "#         dem <- subset(dem, select=c(PERMIT_ISSUED, CASE_TYPE, BLD_PERMIT_TYPE, site_location))\n",
    "        return(dem)\n",
    "}\n",
    "\n",
    "formatDemolition <- function(dem){\n",
    "        extractCoordAdd <- function(row){\n",
    "            # site_location seems to contain the address and geocoordinates of the building to be demolished\n",
    "            loc <- row[\"site_location\"]\n",
    "            # loc is like \"4331 BARHAM\\nDetroit, MI\\n(42.394106, -82.9474)\"\n",
    "            loc <- unlist(strsplit(toString(loc),split = \"\\n\"))\n",
    "            str <- loc[1]\n",
    "            cty <- loc[2]\n",
    "            crd <- loc[3]\n",
    "            # Now we have something like (42.32544917300004, -83.06413908999997)\n",
    "            crd <- gsub(\"[()]\",\"\",crd)\n",
    "            crd <- unlist(strsplit(crd,split = \",\"))\n",
    "            lat <- crd[1]\n",
    "            lon <- crd[2]\n",
    "            coord <- c(lat, lon, str, cty)\n",
    "            return(coord)\n",
    "        }\n",
    "        dnam <- names(dem)\n",
    "        coord <- t(apply(dem, 1, extractCoordAdd))\n",
    "        dem <- cbind(as.numeric(coord[,1]), as.numeric(coord[,2]), coord[,3], coord[,4], dem)\n",
    "        dnam <- c(\"Lat\", \"Lon\", \"Street\", \"City\", dnam)\n",
    "        names(dem) <- dnam\n",
    "        dem$Street <- as.character(dem$Street)\n",
    "        dem$City <- as.character(dem$City)\n",
    "        return(dem)\n",
    "}\n",
    "\n",
    "prepareDemolition <- function(){\n",
    "    dem <- getDemolition()\n",
    "    dem <- formatDemolition(dem)\n",
    "    dem <- data.table(dem)\n",
    "    # Some 900 entries have NA for coordinates. We need to treat them separately with geocoding.\n",
    "    demToGeocode <- dem[is.na(dem$Lat),]\n",
    "    # demToGeocode <- head(demToGeocode,10)\n",
    "    # Remove from dem the entries that need to be geocoded \n",
    "    dem <- dem[!(is.na(dem$Lat)),]\n",
    "    \n",
    "    addresses <- paste0(demToGeocode$Street, \" \",gsub(\",\", \"\",demToGeocode$City))\n",
    "    geocoded <- data.frame()\n",
    "    # Start the geocoding process - address by address. geocode() function takes care of query speed limit.\n",
    "    for (ii in (1:length(addresses))){\n",
    "        if (ii %% 50 == 0){\n",
    "            print(paste(\"Working on index\", ii, \"of\", length(addresses)))    \n",
    "        }\n",
    "        #query the google geocoder - this will pause here if we are over the limit.\n",
    "        result = geoCodeAddress(addresses[ii]) \n",
    "        # print(result$status)     \n",
    "        result$index <- ii\n",
    "        #append the answer to the results file.\n",
    "        geocoded <- rbind(geocoded, result)\n",
    "        #save temporary results as we are going along\n",
    "        # saveRDS(geocoded, tempfilename)\n",
    "    }\n",
    "    # demToGeocode$accuracy <- geocoded$accuracy\n",
    "    demToGeocode$Lat <- geocoded$Lat\n",
    "    demToGeocode$Lon <- geocoded$Lon\n",
    "    # Remove the most obvious geographic outliers\n",
    "    demToGeocode <- demToGeocode[Lat %between% c(42,43) & Lon %between% c(-83.5,-81)]\n",
    "    # Finally add the geocoded entries to dem\n",
    "    dem <- rbind(dem,demToGeocode)\n",
    "    return(dem)\n",
    "}\n",
    "\n",
    "geoCodeAddress <- function(address){\n",
    "    geo_reply = geocode(address, output='all', messaging=TRUE, override_limit=TRUE)\n",
    "    #now extract the bits that we need from the returned list\n",
    "    answer <- data.frame(Lat=NA, Lon=NA, accuracy=NA, formatted_address=NA, address_type=NA, status=NA)\n",
    "    answer$status <- geo_reply$status\n",
    "    #if we are over the query limit - want to pause for an hour\n",
    "    while(geo_reply$status == \"OVER_QUERY_LIMIT\"){\n",
    "        print(\"OVER QUERY LIMIT - Pausing for 1 hour at:\") \n",
    "        time <- Sys.time()\n",
    "        print(as.character(time))\n",
    "        Sys.sleep(60*60)\n",
    "        geo_reply = geocode(address, output='all', messaging=TRUE, override_limit=TRUE)\n",
    "        answer$status <- geo_reply$status\n",
    "    }\n",
    "    if (geo_reply$status != \"OK\"){\n",
    "        return(answer)\n",
    "    }   \n",
    "    #else, extract what we need from the Google server reply into a dataframe:\n",
    "    answer$Lat <- geo_reply$results[[1]]$geometry$location$lat\n",
    "    answer$Lon <- geo_reply$results[[1]]$geometry$location$lng   \n",
    "    if (length(geo_reply$results[[1]]$types) > 0){\n",
    "        answer$accuracy <- geo_reply$results[[1]]$types[[1]]\n",
    "    }\n",
    "    answer$address_type <- paste(geo_reply$results[[1]]$types, collapse=',')\n",
    "    answer$formatted_address <- geo_reply$results[[1]]$formatted_address\n",
    "    return(answer)\n",
    "}\n"
   ]
  },
  {
   "cell_type": "code",
   "execution_count": null,
   "metadata": {
    "collapsed": true
   },
   "outputs": [],
   "source": [
    "# Time to put it all together!\n",
    "# Get and format the demolition permits\n",
    "dem <- prepareDemolition()\n",
    "\n",
    "demolitionHouses <- function(dem, houses){\n",
    "    h <- data.table(houses)\n",
    "    setkey(h,Lat,Lon)\n",
    "    # Link demolition permits to houses\n",
    "    d <- apply(dem, 1, findInHouses3,h)\n",
    "    dem <- cbind(d, dem)\n",
    "    names(dem)[names(dem)==\"d\"] <- \"house\"\n",
    "    dem\n",
    "}\n",
    "\n",
    "findInHouses3 <- function(row, houses) {\n",
    "    # houses must be a data.table. Returns HouseId (an integer) or NA\n",
    "    rlat <- round(as.numeric(row[\"Lat\"]),digits=4)\n",
    "    rlon <- round(as.numeric(row[\"Lon\"]),digits=4)\n",
    "    res <- houses[list(rlat,rlon)]\n",
    "    res$HouseId\n",
    "}\n",
    "\n",
    "# Assign them to houses\n",
    "dh <- demolitionHouses(dem,houses)"
   ]
  },
  {
   "cell_type": "markdown",
   "metadata": {},
   "source": [
    "### Shortcut\n",
    "Using the file I've saved from my dataframes, load dh"
   ]
  },
  {
   "cell_type": "code",
   "execution_count": null,
   "metadata": {
    "collapsed": true
   },
   "outputs": [],
   "source": [
    "dh <- read.csv(\"houses_with_demolition.csv\",stringsAsFactors = FALSE)\n",
    "# Checked in Carto that only 1 of these may fall a few meters outside Detroit --> ignore error\n",
    "dh <- data.table(dh)"
   ]
  },
  {
   "cell_type": "markdown",
   "metadata": {},
   "source": [
    "## 4) Prepare demolition permits for training and testing\n",
    "Many demolition permits are not associated to any of our houses. In other words there are no incidents linked to them. Let's disregard them."
   ]
  },
  {
   "cell_type": "code",
   "execution_count": null,
   "metadata": {
    "collapsed": true
   },
   "outputs": [],
   "source": [
    "> gh <- dh[!is.na(house)]\n",
    "> sgh <- subset(gh,select=c(\"house\",\"Lat\",\"Lon\",\"PERMIT_ISSUED\",\"LEGAL_USE\",\"PARCEL_SIZE\",\"STORIES\"))\n",
    "rm(dh,gh)\n",
    "> nrow(sgh)"
   ]
  },
  {
   "cell_type": "markdown",
   "metadata": {},
   "source": [
    "There should be 3573 demolition permits assigned to houses (sgh).\n",
    "Check for duplicates ie. multiple permits to the same house:"
   ]
  },
  {
   "cell_type": "code",
   "execution_count": null,
   "metadata": {
    "collapsed": true
   },
   "outputs": [],
   "source": [
    "> sum(duplicated(sgh$house))\n",
    "[1] 1090\n",
    "> sum(duplicated(sgh$house, sgh$Lat, sgh$Lon))\n",
    "[1] 1090"
   ]
  },
  {
   "cell_type": "markdown",
   "metadata": {},
   "source": [
    "Finally remove duplicates and prepare the train and test sets."
   ]
  },
  {
   "cell_type": "code",
   "execution_count": null,
   "metadata": {
    "collapsed": true
   },
   "outputs": [],
   "source": [
    "sgh <- sgh[!duplicated(sgh$house),] \n",
    "n <- nrow(sgh)\n",
    "train <- sample(1:n, size=round(0.7*n),replace=FALSE)\n",
    "demtrain <- sgh[train,]\n",
    "demtest <- sgh[-train,]\n",
    "# Some crude validity tests\n",
    "sum(duplicated(sgh$house))\n",
    "max(sgh$Lat)\n",
    "max(sgh$Lon)\n",
    "\n",
    "bHouses <- data.table(HouseId = sgh$house, ToDemolition = TRUE)\n",
    "nbHouses <- houses[!(HouseId %in% sgh$house)]\n",
    "nbHouses <- data.table(HouseId = as.integer(nbHouses$HouseId), ToDemolition = FALSE)\n",
    "nbHouses <- nbHouses[sample(1:nrow(nbHouses), size=nrow(bHouses), replace=FALSE),]\n",
    "# as result, we have nrow(bHouses) = nrow(nbHouses) = 2483\n",
    "\n",
    "ttHouses <- rbind(bHouses, nbHouses)\n",
    "ttHouses[order(ttHouses$HouseId),]\n",
    "# Ordering by HouseId should distribute the blighted/nonblighted houses fairly randomly, \n",
    "# as the house numbers were generated with no reference to blight\n"
   ]
  },
  {
   "cell_type": "markdown",
   "metadata": {},
   "source": [
    "# 5) Number of incidents per house in training/test set"
   ]
  },
  {
   "cell_type": "code",
   "execution_count": null,
   "metadata": {
    "collapsed": true
   },
   "outputs": [],
   "source": [
    "bvc <- loadDf(\"bvCounts.csv\") #A result of previous aggregation of incidents per Lat,Lon"
   ]
  },
  {
   "cell_type": "markdown",
   "metadata": {},
   "source": [
    "Alternatively, here's how the object in bvCounts was built:"
   ]
  },
  {
   "cell_type": "code",
   "execution_count": null,
   "metadata": {
    "collapsed": true
   },
   "outputs": [],
   "source": [
    "bv <- loadDf(\"Detroitbviolfromcartocsv.csv\")\n",
    "bv <- subset(bv, select=c(\"lat\", \"lon\"))\n",
    "bv$lat <- round(bv$lat,digits=4)\n",
    "bv$lon <- round(bv$lon,digits=4)\n",
    "bv <- data.table(bv)\n",
    "bv <- bv[, \":=\" (Count = .N), by= list(lat,lon)]\n",
    "# The data table operator .N adds the number of incidents in the by group to every member of the group.\n",
    "# It did not remove duplicates (aggregate to one member per group)\n",
    "bv <- unique(bv)\n",
    "names(bv)=c(\"Lat\", \"Lon\", \"Count\")\n",
    "setkey(bv,Lat,Lon)\n",
    "\n",
    "train <- loadDf(\"trainSet.csv\")\n",
    "train <- data.table(train)\n",
    "setkey(train,Lat,Lon)\n",
    "# Join the data tables\n",
    "bt <- bv[train]\n",
    "names(bt)\n",
    "# [1] \"Lat\"          \"Lon\"          \"Count\"        \"HouseId\"      \"ToDemolition\"\n"
   ]
  },
  {
   "cell_type": "markdown",
   "metadata": {},
   "source": [
    "### 6) Build simple model\n",
    "Build the model based on solely the number of incidents per case in the training set."
   ]
  },
  {
   "cell_type": "code",
   "execution_count": null,
   "metadata": {
    "collapsed": true
   },
   "outputs": [],
   "source": [
    "btree <- tree(ToDemolition ~ Count, data= bt)\n",
    "cv.tree(btree, , prune.tree,K=5)\n",
    "plot(tree)\n",
    "text(tree)"
   ]
  },
  {
   "cell_type": "markdown",
   "metadata": {},
   "source": [
    "The resulting model is very simple: if the number of incidents >0.5 (in practice if there are incidents) then predict TRUE = to be demolished = blighted.\n",
    "The precision is not too good."
   ]
  },
  {
   "cell_type": "code",
   "execution_count": null,
   "metadata": {
    "collapsed": true
   },
   "outputs": [],
   "source": []
  }
 ],
 "metadata": {
  "kernelspec": {
   "display_name": "R",
   "language": "R",
   "name": "ir"
  },
  "language_info": {
   "codemirror_mode": "r",
   "file_extension": ".r",
   "mimetype": "text/x-r-source",
   "name": "R",
   "pygments_lexer": "r",
   "version": "3.2.3"
  }
 },
 "nbformat": 4,
 "nbformat_minor": 0
}
